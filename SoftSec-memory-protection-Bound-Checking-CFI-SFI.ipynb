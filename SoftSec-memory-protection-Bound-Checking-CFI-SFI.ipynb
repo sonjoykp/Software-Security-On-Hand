{
  "nbformat": 4,
  "nbformat_minor": 0,
  "metadata": {
    "colab": {
      "provenance": []
    },
    "kernelspec": {
      "name": "python3",
      "display_name": "Python 3"
    },
    "language_info": {
      "name": "python"
    }
  },
  "cells": [
    {
      "cell_type": "markdown",
      "source": [
        "# Exercise 5: Memory Protection Mechanisms (Bounds checking, CFI, SFI)\n",
        "\n",
        "### Assignment Deadline: May 5 (Monday) before 11:59PM\n",
        "\n",
        "**This assignment is worth 15% of the semester grade.**\n",
        "\n",
        "In our lecture, we learn about multiple compiler-based, application-level mitigations, including bounds checking, control-flow integrity (CFI), and Software Fault Isolation (SFI). In this exercise, we will ask you to implement the checking logics of these mitigations, **without** dealing with the hassle of static analysis and binary instrumentation. We will start with building an **offline** reference monitor to track all the memory traces and control transfers, and then implement the checking logics corresponding to bounds checking, CFI, and SFI."
      ],
      "metadata": {
        "id": "8V7If-dgvzBB"
      }
    },
    {
      "cell_type": "markdown",
      "source": [
        "## Step 0: Program Tracing"
      ],
      "metadata": {
        "id": "1jH1qiY9wo1Q"
      }
    },
    {
      "cell_type": "markdown",
      "source": [
        "In this step, we will start by collecting the traces of memory access (read and write) and control transfer (call, jump, and return) in a program. Normally, a reference monitor will collect and check the traces online during the program execution. This is important as any operations violating the safety policies will have to be interrupted immediately. However, performing online checks require instrumentation and lots of optimizations to avoid significant overheads. Instead, in this exercise, we will design an **offline** reference monitor, which checks the traces **after** the program execution is finished.\n",
        "\n",
        "We will use **Pin Tool**, a binary instrumentation and analysis framwork to collect the traces from a program. Pin allows you to design your own binary analyzer, by hooking different logics to operations in the program. Here, we provide you the code for tracing memory access and control transfer, a tool called **memtrace**, which you do not have to develop yourself.\n",
        "\n",
        "Now, start with downloading the Pin tool:"
      ],
      "metadata": {
        "id": "nvg-N4qMww9G"
      }
    },
    {
      "cell_type": "code",
      "execution_count": null,
      "metadata": {
        "id": "1AlWsnkD3lxu"
      },
      "outputs": [],
      "source": [
        "!wget -O pintool-3.31.tar.gz https://github.com/chiache/csce713-assignments/raw/refs/heads/master/lab5/pintool-3.31.tar.gz\n",
        "!tar -xzf pintool-3.31.tar.gz"
      ]
    },
    {
      "cell_type": "markdown",
      "source": [
        "Next, examine `memtrace.cpp`, a custom-made Pin tool for tracing memory access and control transfer."
      ],
      "metadata": {
        "id": "m2EBBNesLsGQ"
      }
    },
    {
      "cell_type": "code",
      "source": [
        "%%writefile pintool-3.31/source/tools/MyPinTool/memtrace.cpp\n",
        "#include \"pin.H\"\n",
        "#include <iostream>\n",
        "#include <fstream>\n",
        "#include <thread>\n",
        "\n",
        "std::ofstream TraceFile;\n",
        "\n",
        "VOID RecordMemRead(VOID *ip, VOID *addr, THREADID threadID) {\n",
        "    TraceFile << threadID << \",\" << ip << \",READ,\" << addr << \"\\n\";\n",
        "}\n",
        "\n",
        "VOID RecordMemWrite(VOID *ip, VOID *addr, THREADID threadID) {\n",
        "    TraceFile << threadID << \",\" <<  ip << \",WRITE,\" << addr << \"\\n\";\n",
        "}\n",
        "\n",
        "VOID RecordDirectControlFlow(VOID* ip, VOID* target, const char* type, THREADID threadID) {\n",
        "    TraceFile << threadID << \",\" <<  ip << \",\" << type << \",\" << target << \"\\n\";\n",
        "}\n",
        "\n",
        "VOID RecordIndirectControlFlow(VOID* ip, VOID* target, const char* type, THREADID threadID) {\n",
        "    TraceFile << threadID << \",\" <<  ip << \",\" << type << \",\" << target << \"\\n\";\n",
        "}\n",
        "\n",
        "VOID Instruction(INS ins, VOID *v) {\n",
        "    if (INS_IsMemoryRead(ins)) {\n",
        "        INS_InsertPredicatedCall(\n",
        "            ins, IPOINT_BEFORE, (AFUNPTR)RecordMemRead,\n",
        "            IARG_INST_PTR,\n",
        "            IARG_MEMORYREAD_EA,\n",
        "            IARG_THREAD_ID,\n",
        "            IARG_END);\n",
        "    }\n",
        "\n",
        "    if (INS_IsMemoryWrite(ins)) {\n",
        "        INS_InsertPredicatedCall(\n",
        "            ins, IPOINT_BEFORE, (AFUNPTR)RecordMemWrite,\n",
        "            IARG_INST_PTR,\n",
        "            IARG_MEMORYWRITE_EA,\n",
        "            IARG_THREAD_ID,\n",
        "            IARG_END);\n",
        "    }\n",
        "\n",
        "    if (INS_IsRet(ins)) {\n",
        "        INS_InsertPredicatedCall(\n",
        "            ins, IPOINT_BEFORE, (AFUNPTR)RecordIndirectControlFlow,\n",
        "            IARG_INST_PTR,\n",
        "            IARG_BRANCH_TARGET_ADDR,\n",
        "            IARG_PTR, \"RET\",\n",
        "            IARG_THREAD_ID,\n",
        "            IARG_END);\n",
        "    } else if (INS_IsConrolFlow(ins)) {\n",
        "        const char* type = INS_IsCall(ins) ? \"CALL\" : \"JMP\";\n",
        "\n",
        "        if (INS_IsDirectControlFlow(ins)) {\n",
        "            ADDRINT target = INS_DirectControlFlowTargetAddress(ins);\n",
        "            INS_InsertPredicatedCall(\n",
        "                ins, IPOINT_BEFORE, (AFUNPTR)RecordDirectControlFlow,\n",
        "                IARG_INST_PTR,\n",
        "                IARG_ADDRINT, target,\n",
        "                IARG_PTR, type,\n",
        "                IARG_THREAD_ID,\n",
        "                IARG_END);\n",
        "        } else if (INS_IsIndirectControlFlow(ins)) {\n",
        "            INS_InsertPredicatedCall(\n",
        "                ins, IPOINT_BEFORE, (AFUNPTR)RecordIndirectControlFlow,\n",
        "                IARG_INST_PTR,\n",
        "                IARG_BRANCH_TARGET_ADDR,\n",
        "                IARG_PTR, type,\n",
        "                IARG_THREAD_ID,\n",
        "                IARG_END);\n",
        "        }\n",
        "    }\n",
        "}\n",
        "\n",
        "// Called when the application exits\n",
        "VOID Fini(INT32 code, VOID *v) {\n",
        "    TraceFile.close();\n",
        "}\n",
        "\n",
        "// Initialization\n",
        "int main(int argc, char *argv[]) {\n",
        "    PIN_Init(argc, argv);\n",
        "    TraceFile.open(\"memtrace.out\");\n",
        "\n",
        "    INS_AddInstrumentFunction(Instruction, 0);\n",
        "    PIN_AddFiniFunction(Fini, 0);\n",
        "\n",
        "    PIN_StartProgram(); // Never returns\n",
        "    return 0;\n",
        "}"
      ],
      "metadata": {
        "id": "G-PMQcyL5Afm"
      },
      "execution_count": null,
      "outputs": []
    },
    {
      "cell_type": "markdown",
      "source": [
        "Once you have save the source file, build the custom Pin tool for x86-64:"
      ],
      "metadata": {
        "id": "2SxBOqx6L7u_"
      }
    },
    {
      "cell_type": "code",
      "source": [
        "!cd pintool-3.31/source/tools/MyPinTool && mkdir -p obj-intel64 && make PIN_ROOT=/content/pintool-3.31 obj-intel64/memtrace.so"
      ],
      "metadata": {
        "id": "y38pyarqBa3F"
      },
      "execution_count": null,
      "outputs": []
    },
    {
      "cell_type": "markdown",
      "source": [
        "Now, you should be able to run any x86-64 program under this custom pin tool. For example, running `/bin/ls`:\n"
      ],
      "metadata": {
        "id": "ciWgKCB6GuRp"
      }
    },
    {
      "cell_type": "code",
      "source": [
        "!pintool-3.31/pin -t pintool-3.31/source/tools/MyPinTool/obj-intel64/memtrace.so -- /bin/ls"
      ],
      "metadata": {
        "id": "s77WpN66G-B5"
      },
      "execution_count": null,
      "outputs": []
    },
    {
      "cell_type": "markdown",
      "source": [
        "The traces are stored in `memtrace.out`. You may open the file to examine the traces."
      ],
      "metadata": {
        "id": "oC5IwB9zMa7K"
      }
    },
    {
      "cell_type": "markdown",
      "source": [
        "## Step 1: Bounds Checking"
      ],
      "metadata": {
        "id": "phiHQcelMStF"
      }
    },
    {
      "cell_type": "markdown",
      "source": [
        "**Bounds checking** is a classic technique to detect and prevent out-of-bound pointer references from their sources. For each pointer or memory access in program, we can define the upper bound and lower bound of the virtual address, to ensure that the pointer dereferencing or memory access will never go outside of its normal bounds.\n",
        "\n"
      ],
      "metadata": {
        "id": "EooO8FfzMYv0"
      }
    },
    {
      "cell_type": "markdown",
      "source": [
        "Let's start with a simple example of buffer overflow:"
      ],
      "metadata": {
        "id": "8eD17iNlPFT0"
      }
    },
    {
      "cell_type": "code",
      "source": [
        "%%writefile buffer-overflow.c\n",
        "#include <stdio.h>\n",
        "#include <string.h>\n",
        "\n",
        "char buffer[10];\n",
        "\n",
        "void vuln_func() {\n",
        "    char *b = buffer, c;\n",
        "    while(c = getchar(), c != '\\n')\n",
        "      *(b++) = c;\n",
        "    printf(\"You entered: %s\\n\", buffer);\n",
        "}\n",
        "\n",
        "int main() {\n",
        "    vuln_func();\n",
        "    return 0;\n",
        "}"
      ],
      "metadata": {
        "id": "gAmxb6PsPJZ6"
      },
      "execution_count": null,
      "outputs": []
    },
    {
      "cell_type": "markdown",
      "source": [
        "Now, let's compile the program and examine the program binary:"
      ],
      "metadata": {
        "id": "1cI5YG_jcoI4"
      }
    },
    {
      "cell_type": "code",
      "source": [
        "!gcc -o buffer-overflow buffer-overflow.c -no-pie\n",
        "!objdump -S buffer-overflow"
      ],
      "metadata": {
        "id": "dl9XpWmEc1nc"
      },
      "execution_count": null,
      "outputs": []
    },
    {
      "cell_type": "markdown",
      "source": [],
      "metadata": {
        "id": "SxSNHtlprj5P"
      }
    },
    {
      "cell_type": "markdown",
      "source": [
        "You can start with running the program directly under Pin tool with the memory trace module we provided. The program should output a file called ``memtrace.out` which contains all the traces of memory access and control transfer."
      ],
      "metadata": {
        "id": "BqRrkbkHuEDm"
      }
    },
    {
      "cell_type": "code",
      "source": [
        "!echo \"aaaaaaaaaa\" | pintool-3.31/pin -t pintool-3.31/source/tools/MyPinTool/obj-intel64/memtrace.so -- ./buffer-overflow"
      ],
      "metadata": {
        "id": "p1mZFtr1rkY9"
      },
      "execution_count": null,
      "outputs": []
    },
    {
      "cell_type": "markdown",
      "source": [
        "Now, please design a Python module to perform bounds checking on the memory traces to capture the instruction address(es) where the buffer overflow happens."
      ],
      "metadata": {
        "id": "FTFFPt5YuUdT"
      }
    },
    {
      "cell_type": "markdown",
      "source": [
        "First, let's start with defining the bounds checking rules:"
      ],
      "metadata": {
        "id": "W2YGHSX1ylyl"
      }
    },
    {
      "cell_type": "code",
      "source": [
        "bounds_checking_rules = {\n",
        "    # Each rule should be the format of \"IP address: (lower bound, upper bound)\"\n",
        "}"
      ],
      "metadata": {
        "id": "aCKSjktdySr5"
      },
      "execution_count": null,
      "outputs": []
    },
    {
      "cell_type": "markdown",
      "source": [
        "Next, we will read the memory trace output and check the recorded memory traces against the bounds checking rules."
      ],
      "metadata": {
        "id": "fe2jMxFbyqYd"
      }
    },
    {
      "cell_type": "code",
      "source": [
        "def read_memtrace():\n",
        "    records = []\n",
        "\n",
        "    with open('memtrace.out', 'r') as f:\n",
        "        for line_number, line in enumerate(f, start=1):\n",
        "            line = line.strip()\n",
        "            if not line or line.startswith('#'):\n",
        "                continue  # skip empty lines or comments\n",
        "\n",
        "            parts = line.split(',')\n",
        "            if len(parts) != 4:\n",
        "                print(f\"Skipping malformed line {line_number}: {line}\")\n",
        "                continue\n",
        "\n",
        "            try:\n",
        "                thread_id = int(parts[0])\n",
        "                ip_address = int(parts[1], 16)\n",
        "                op_type = parts[2]\n",
        "                target_address = int(parts[3], 16)\n",
        "\n",
        "                record = {\n",
        "                    'thread_id': thread_id,\n",
        "                    'ip_address': ip_address,\n",
        "                    'op_type': op_type,\n",
        "                    'target_address': target_address\n",
        "                }\n",
        "                records.append(record)\n",
        "\n",
        "            except ValueError as e:\n",
        "                print(f\"Error parsing line {line_number}: {e}\")\n",
        "                continue\n",
        "\n",
        "    return records"
      ],
      "metadata": {
        "id": "SEhb48TDyyet"
      },
      "execution_count": null,
      "outputs": []
    },
    {
      "cell_type": "markdown",
      "source": [
        "Now, please use the memtrace and the defined bounds checking rules to print out the IP addresses, operation types (read or write), and target addresses of memory safety violation.\n",
        "\n",
        "**For simplicity, you only need to look at IP addresses and read/write addresses between `0x400000--0x800000` (the range of the target executable). We do not have to check against addresses within the libraries.**"
      ],
      "metadata": {
        "id": "CAaXEJVYSAc2"
      }
    },
    {
      "cell_type": "code",
      "source": [],
      "metadata": {
        "id": "Ni2rU-d3RGtv"
      },
      "execution_count": null,
      "outputs": []
    },
    {
      "cell_type": "markdown",
      "source": [
        "## Step 2: Control-Flow Integrity"
      ],
      "metadata": {
        "id": "eMjlv4Xsa8yx"
      }
    },
    {
      "cell_type": "markdown",
      "source": [
        "In this step, we will implement a simple version of **control-flow integrity**, a security policy to check the target of calls (both indirect and direct) and returns against a list of valid targets. To start, we will use the same memory trace Pin tool to collect the targets of control flow transfer and check against our rules."
      ],
      "metadata": {
        "id": "AeEHS87dfy-s"
      }
    },
    {
      "cell_type": "markdown",
      "source": [
        "Let's start with a simple example of stack smashing:\n",
        "\n"
      ],
      "metadata": {
        "id": "Ttoj0_V9gNf-"
      }
    },
    {
      "cell_type": "code",
      "source": [
        "%%writefile stack-smashing.c\n",
        "#include <stdio.h>\n",
        "#include <string.h>\n",
        "\n",
        "void attack_func() {\n",
        "    printf(\"Stack smashed! You've gained unauthorized access!\\n\");\n",
        "}\n",
        "\n",
        "void vuln_func() {\n",
        "    char buffer[10];\n",
        "\n",
        "    printf(\"Enter some input: \");\n",
        "    scanf(\"%s\", buffer); // this  is unsafe and allows stack smashing\n",
        "\n",
        "    printf(\"You entered: %s\\n\", buffer);\n",
        "}\n",
        "\n",
        "int main() {\n",
        "    vuln_func();\n",
        "    printf(\"Normal execution continues...\\n\");\n",
        "    return 0;\n",
        "}"
      ],
      "metadata": {
        "id": "rPqblbozwPiX"
      },
      "execution_count": null,
      "outputs": []
    },
    {
      "cell_type": "code",
      "source": [
        "!gcc -o stack-smashing stack-smashing.c -no-pie -fno-stack-protector\n",
        "!objdump -S stack-smashing"
      ],
      "metadata": {
        "id": "iszasxffxPmb"
      },
      "execution_count": null,
      "outputs": []
    },
    {
      "cell_type": "markdown",
      "source": [
        "Now, a small exercise for recaping what we learned in assignment 2. Please come up with an input to force the progam `stack-smashing` to print out the following:\n",
        "\n",
        "```\n",
        "Stack smashed! You've gained unauthorized access!\n",
        "```"
      ],
      "metadata": {
        "id": "Ef2SE6H6z102"
      }
    },
    {
      "cell_type": "code",
      "source": [
        "!echo \"aaaaaaaaaa\" | ./stack-smashing"
      ],
      "metadata": {
        "id": "VcU52Oxz0KW3"
      },
      "execution_count": null,
      "outputs": []
    },
    {
      "cell_type": "markdown",
      "source": [
        "Next, run `stack-smashing` with the same input and collect memory traces."
      ],
      "metadata": {
        "id": "vz1PXyFS0Nxj"
      }
    },
    {
      "cell_type": "code",
      "source": [
        "!echo \"aaaaaaaaaa\" | pintool-3.31/pin -t pintool-3.31/source/tools/MyPinTool/obj-intel64/memtrace.so -- ./stack-smashing"
      ],
      "metadata": {
        "id": "XWsAfADnxVsf"
      },
      "execution_count": null,
      "outputs": []
    },
    {
      "cell_type": "markdown",
      "source": [
        "Now, please design a Python module to check control flow integrity on the control transfer traces to capture the instruction address(es) where the control flow hijacking happens.\n",
        "\n",
        "First, let's start with defining the control transfer rules, incuding the rules for returns, calls, and jumps."
      ],
      "metadata": {
        "id": "_ezZE9lmzgEM"
      }
    },
    {
      "cell_type": "code",
      "source": [
        "return_rules = {\n",
        "    # Each rule should be the format of \"IP address: [ allowed return targets ]\"\n",
        "}\n",
        "\n",
        "call_rules = {\n",
        "    # Each rule should be the format of \"IP address: [ allowed call targets ]\"\n",
        "}\n",
        "\n",
        "jump_rules = {\n",
        "    # Each rule should be the format of \"IP address: [ allowed jump targets ]\"\n",
        "}"
      ],
      "metadata": {
        "id": "2KaJwuwWxuXU"
      },
      "execution_count": null,
      "outputs": []
    },
    {
      "cell_type": "markdown",
      "source": [
        "Now, please use the memtrace and the defined control flow integrity rules to print out the IP addresses, operation types (return, call, or jump), and target addresses of control flow integrity violation.\n",
        "\n",
        "**Again, for simplicity, you only need to look at IP addresses and memory access addresses between `0x400000--0x800000` (the range of the target executable). We do not have to check against addresses within the libraries.**"
      ],
      "metadata": {
        "id": "A1RrmS8dhE2K"
      }
    },
    {
      "cell_type": "code",
      "source": [],
      "metadata": {
        "id": "eQaSXl9BhPpA"
      },
      "execution_count": null,
      "outputs": []
    },
    {
      "cell_type": "markdown",
      "source": [
        "## Step 3: Software Fault Isolation (SFI)"
      ],
      "metadata": {
        "id": "DEMRt1_KxyQn"
      }
    },
    {
      "cell_type": "markdown",
      "source": [
        "**Software Fault Isolation (SFI)** is a technique to prevent faults in one part of a program from corrupting or interfering with other parts. Typically, it's implemented with memory boundaries and control-flow restrictions. Violating SFI usually means that one \"compartment\" (or thread/module) can corrupt memory it shouldn't be able to touch.\n",
        "\n",
        "The rules of SFI are thread-based: For each thread (besides thread 0), the rules need to specify two separate rules, one for code and one for data:\n",
        "\n",
        "*   For code, any jump, call, and return needs to fall within a code area `(CodeStart, CodeEnd)`.\n",
        "*   For data, any memory access, either read or write, needs to fall within a data area `(DataStart, DataEnd)`.\n"
      ],
      "metadata": {
        "id": "afdfwflGPtw0"
      }
    },
    {
      "cell_type": "markdown",
      "source": [
        "Let's start with a simple example of violating SFI:"
      ],
      "metadata": {
        "id": "NQui1RB2iH6J"
      }
    },
    {
      "cell_type": "code",
      "source": [
        "%%writefile sfi-violation.c\n",
        "#include <stdio.h>\n",
        "#include <stdlib.h>\n",
        "#include <pthread.h>\n",
        "#include <string.h>\n",
        "#include <unistd.h>\n",
        "\n",
        "#define BUFFER_SIZE 64\n",
        "\n",
        "typedef struct {\n",
        "    char buffer[BUFFER_SIZE];\n",
        "} ThreadData;\n",
        "\n",
        "void* thread_func_1(void* arg) {\n",
        "    ThreadData* data = (ThreadData*)arg;\n",
        "    printf(\"Thread 1 writing to its own buffer...\\n\");\n",
        "    strcpy(data->buffer, \"Thread 1 was here!\");\n",
        "\n",
        "    // Malicious overwrite beyond its own buffer\n",
        "    printf(\"Thread 1 now corrupting neighbor's buffer...\\n\");\n",
        "    memset((char*)data->buffer + BUFFER_SIZE, 'X', 128);\n",
        "\n",
        "    return NULL;\n",
        "}\n",
        "\n",
        "void* thread_func_2(void* arg) {\n",
        "    ThreadData* data = (ThreadData*)arg;\n",
        "    printf(\"Thread 2 sleeping...\\n\");\n",
        "    sleep(2); // Give thread 1 time to corrupt\n",
        "    printf(\"Thread 2 buffer content: %s\\n\", data->buffer);\n",
        "    return NULL;\n",
        "}\n",
        "\n",
        "ThreadData t1_data, t2_data;\n",
        "\n",
        "int main() {\n",
        "    pthread_t t1, t2;\n",
        "\n",
        "    memset(&t1_data, 0, sizeof(ThreadData));\n",
        "    memset(&t2_data, 0, sizeof(ThreadData));\n",
        "    strcpy(t2_data.buffer, \"Thread 2's secret data.\");\n",
        "\n",
        "    pthread_create(&t1, NULL, thread_func_1, (void*)&t1_data);\n",
        "    pthread_create(&t2, NULL, thread_func_2, (void*)&t2_data);\n",
        "\n",
        "    pthread_join(t1, NULL);\n",
        "    pthread_join(t2, NULL);\n",
        "\n",
        "    return 0;\n",
        "}"
      ],
      "metadata": {
        "id": "bOYwLqQVxxzs"
      },
      "execution_count": null,
      "outputs": []
    },
    {
      "cell_type": "code",
      "source": [
        "!gcc -o sfi-violation sfi-violation.c -no-pie\n",
        "!objdump -S sfi-violation"
      ],
      "metadata": {
        "id": "p_Ux4DgoQA9_"
      },
      "execution_count": null,
      "outputs": []
    },
    {
      "cell_type": "markdown",
      "source": [
        "Next, run the example to collect the memory trace:"
      ],
      "metadata": {
        "id": "cEFbTRnGiOgt"
      }
    },
    {
      "cell_type": "code",
      "source": [
        "!pintool-3.31/pin -t pintool-3.31/source/tools/MyPinTool/obj-intel64/memtrace.so -- ./sfi-violation"
      ],
      "metadata": {
        "id": "AP_o9Q-pQM7f"
      },
      "execution_count": null,
      "outputs": []
    },
    {
      "cell_type": "markdown",
      "source": [
        "In order to detect any SFI violation, we need to define the SFI rules (in Python), which should looks like this:"
      ],
      "metadata": {
        "id": "s4zdMO1HiR7J"
      }
    },
    {
      "cell_type": "code",
      "source": [
        "sfi_rules = {\n",
        "    # Each rule should be the format of \"Thread ID: (CodeStart, CodeEnd, DataStart, DataEnd)\"\n",
        "}"
      ],
      "metadata": {
        "id": "QUJmZ2VhiaOY"
      },
      "execution_count": null,
      "outputs": []
    },
    {
      "cell_type": "markdown",
      "source": [
        "Now, please use the memtrace and the defined SFI rules to print out the IP addresses, operation types (read, write, return, call, or jump), and target addresses of SFI violation."
      ],
      "metadata": {
        "id": "giXd3jf8isr8"
      }
    },
    {
      "cell_type": "markdown",
      "source": [
        "**Again, for simplicity, you only need to look at code addresses and data addresses between `0x400000--0x800000` (the range of the target executable). We do not have to check against addresses within the libraries.**"
      ],
      "metadata": {
        "id": "7n2SrAntrG5D"
      }
    },
    {
      "cell_type": "code",
      "source": [],
      "metadata": {
        "id": "NbIKZyL7rGaa"
      },
      "execution_count": null,
      "outputs": []
    },
    {
      "cell_type": "markdown",
      "source": [
        "## Submission\n",
        "\n",
        "Once you have finished this notebook, click \"File > Download > Download as .ipynb\" and upload the file to **Assignment 5** on MS Teams."
      ],
      "metadata": {
        "id": "zc4dvwWPljiu"
      }
    },
    {
      "cell_type": "markdown",
      "source": [
        "## Reference\n",
        "\n",
        "Please cite all the sources if there's any."
      ],
      "metadata": {
        "id": "U752Rz6TjI54"
      }
    }
  ]
}